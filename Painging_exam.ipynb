{
 "cells": [
  {
   "cell_type": "code",
   "execution_count": 1,
   "id": "bc6700eb",
   "metadata": {
    "ExecuteTime": {
     "end_time": "2022-01-03T08:13:10.849537Z",
     "start_time": "2022-01-03T08:13:10.308822Z"
    }
   },
   "outputs": [],
   "source": [
    "# django shell 환경설정\n",
    "import os\n",
    "import django\n",
    "os.environ['DJANGO_SETTINGS_MODULE'] = 'config.settings'\n",
    "os.environ['DJANGO_ALLOW_ASYNC_UNSAFE'] = 'true'\n",
    "\n",
    "django.setup()"
   ]
  },
  {
   "cell_type": "markdown",
   "id": "3adbb7a6",
   "metadata": {},
   "source": [
    "# 페이징 처리\n",
    "-  대량의 데이터를 여러 페이지로 나눠서 출력하는 것.\n",
    "-  Django에서는 Paginator와 Page 클래스를 통해 처리한다.\n",
    "  \n",
    "## Paginator 클래스\n",
    "- 전체 페이징 처리를 관리하는 클래스\n",
    "- 전체 데이터관련 정보, 각 페이지당 보여줄 데이터의 정보 등을 제공\n",
    "\n",
    "## Page 클래스\n",
    "- 한페이지에대한 데이터를 관리\n",
    "- Paginator를 통해서 생성.\n",
    "    - `Pagenator객체.page(페이지 번호)`\n",
    "- iterable 타입. 페이지에 속한 데이터들을 제공\n",
    "- Page객체.object_list 속성: 페이지가 가진 데이터들을 List로 반환"
   ]
  },
  {
   "cell_type": "code",
   "execution_count": 2,
   "id": "733b5ff6",
   "metadata": {},
   "outputs": [
    {
     "data": {
      "text/plain": [
       "['0',\n",
       " '1',\n",
       " '2',\n",
       " '3',\n",
       " '4',\n",
       " '5',\n",
       " '6',\n",
       " '7',\n",
       " '8',\n",
       " '9',\n",
       " 'a',\n",
       " 'b',\n",
       " 'c',\n",
       " 'd',\n",
       " 'e',\n",
       " 'f',\n",
       " 'g',\n",
       " 'h',\n",
       " 'i',\n",
       " 'j',\n",
       " 'k',\n",
       " 'l',\n",
       " 'm',\n",
       " 'n',\n",
       " 'o',\n",
       " 'p',\n",
       " 'q',\n",
       " 'r',\n",
       " 's',\n",
       " 't',\n",
       " 'u',\n",
       " 'v',\n",
       " 'w',\n",
       " 'x',\n",
       " 'y',\n",
       " 'z',\n",
       " 'A',\n",
       " 'B',\n",
       " 'C',\n",
       " 'D',\n",
       " 'E',\n",
       " 'F',\n",
       " 'G',\n",
       " 'H',\n",
       " 'I',\n",
       " 'J',\n",
       " 'K',\n",
       " 'L',\n",
       " 'M',\n",
       " 'N',\n",
       " 'O',\n",
       " 'P',\n",
       " 'Q',\n",
       " 'R',\n",
       " 'S',\n",
       " 'T',\n",
       " 'U',\n",
       " 'V',\n",
       " 'W',\n",
       " 'X',\n",
       " 'Y',\n",
       " 'Z']"
      ]
     },
     "execution_count": 2,
     "metadata": {},
     "output_type": "execute_result"
    }
   ],
   "source": [
    "txt = \"0123456789abcdefghijklmnopqrstuvwxyzABCDEFGHIJKLMNOPQRSTUVWXYZ\"\n",
    "dataset = list(txt)\n",
    "len(txt), len(dataset)\n",
    "dataset"
   ]
  },
  {
   "cell_type": "code",
   "execution_count": 3,
   "id": "5fd441c4",
   "metadata": {},
   "outputs": [],
   "source": [
    "from django.core.paginator import Paginator\n",
    "\n",
    "# Paging관리 -> Paginator 객체를 생성 -> 전체 데이터를 다 넣어서 생성.\n",
    "pn = Paginator(dataset, 5) # (전체 데이터들, 페이지당 데이터개수)"
   ]
  },
  {
   "cell_type": "code",
   "execution_count": 4,
   "id": "4a3f1cd2",
   "metadata": {},
   "outputs": [
    {
     "name": "stdout",
     "output_type": "stream",
     "text": [
      "전체 데이터 개수: 62\n",
      "총 페이지 수: 13\n",
      "시작 페이지 번호, 끝 페이지 번호: range(1, 14)\n"
     ]
    }
   ],
   "source": [
    "print(\"전체 데이터 개수:\", pn.count)\n",
    "print(\"총 페이지 수:\", pn.num_pages)\n",
    "print(\"시작 페이지 번호, 끝 페이지 번호:\", pn.page_range)"
   ]
  },
  {
   "cell_type": "code",
   "execution_count": 5,
   "id": "09290979",
   "metadata": {},
   "outputs": [
    {
     "name": "stdout",
     "output_type": "stream",
     "text": [
      "1\t2\t3\t4\t5\t6\t7\t8\t9\t10\t11\t12\t13\t"
     ]
    }
   ],
   "source": [
    "for page in pn.page_range:\n",
    "    print(page, end=\"\\t\")"
   ]
  },
  {
   "cell_type": "code",
   "execution_count": 6,
   "id": "c4114389",
   "metadata": {},
   "outputs": [
    {
     "name": "stdout",
     "output_type": "stream",
     "text": [
      "<class 'django.core.paginator.Page'>\n"
     ]
    },
    {
     "data": {
      "text/plain": [
       "<Page 1 of 13>"
      ]
     },
     "execution_count": 6,
     "metadata": {},
     "output_type": "execute_result"
    }
   ],
   "source": [
    "# 특정 Page값들을 조회 -> Page객체\n",
    "page1 = pn.page(1)\n",
    "print(type(page1))\n",
    "page1"
   ]
  },
  {
   "cell_type": "code",
   "execution_count": 7,
   "id": "86bb55c3",
   "metadata": {},
   "outputs": [
    {
     "data": {
      "text/plain": [
       "<Page 10 of 13>"
      ]
     },
     "execution_count": 7,
     "metadata": {},
     "output_type": "execute_result"
    }
   ],
   "source": [
    "page10 = pn.page(10)\n",
    "page10"
   ]
  },
  {
   "cell_type": "code",
   "execution_count": 8,
   "id": "668ebd16",
   "metadata": {},
   "outputs": [
    {
     "data": {
      "text/plain": [
       "<Page 13 of 13>"
      ]
     },
     "execution_count": 8,
     "metadata": {},
     "output_type": "execute_result"
    }
   ],
   "source": [
    "page13 = pn.page(13)\n",
    "page13"
   ]
  },
  {
   "cell_type": "code",
   "execution_count": null,
   "id": "15efc389",
   "metadata": {},
   "outputs": [],
   "source": [
    "# pn.page(100)  # 없는 페이지. EmptyPage Exception 발생"
   ]
  },
  {
   "cell_type": "code",
   "execution_count": 9,
   "id": "bd9e580e",
   "metadata": {},
   "outputs": [
    {
     "name": "stdout",
     "output_type": "stream",
     "text": [
      "0, 1, 2, 3, 4, \n",
      "J, K, L, M, N, \n",
      "Y, Z, "
     ]
    }
   ],
   "source": [
    "# Page객체가 가진 데이터들을 조회 -> Page: Iterable, Subscriptable\n",
    "# page1[1]\n",
    "for data in page1:\n",
    "    print(data, end=\", \")\n",
    "print()\n",
    "for data in page10:\n",
    "    print(data, end=\", \")\n",
    "print()\n",
    "for data in page13:\n",
    "    print(data, end=\", \")"
   ]
  },
  {
   "cell_type": "code",
   "execution_count": 10,
   "id": "4234071d",
   "metadata": {},
   "outputs": [
    {
     "data": {
      "text/plain": [
       "['0', '1', '2', '3', '4']"
      ]
     },
     "execution_count": 10,
     "metadata": {},
     "output_type": "execute_result"
    }
   ],
   "source": [
    "# Page의 데이터를 list로 변환\n",
    "page1.object_list"
   ]
  },
  {
   "cell_type": "code",
   "execution_count": null,
   "id": "f904f0da",
   "metadata": {},
   "outputs": [],
   "source": []
  },
  {
   "cell_type": "markdown",
   "id": "e6b65836",
   "metadata": {},
   "source": [
    "## 이전/다음 페이지가 있는지 \n",
    "- `Page객체.has_previous()` / `Page객체.has_next()`\n",
    "- 1페이지: 이전페이지? X, 다음페이지? O\n",
    "- 중간 페이지: 이전페이지? O, 다음페이지? O\n",
    "- 마지막 페이지: 이전? O, 다음페이지? X"
   ]
  },
  {
   "cell_type": "code",
   "execution_count": 25,
   "id": "2ad8c4d7",
   "metadata": {},
   "outputs": [
    {
     "data": {
      "text/plain": [
       "(False, True)"
      ]
     },
     "execution_count": 25,
     "metadata": {},
     "output_type": "execute_result"
    }
   ],
   "source": [
    "page1.has_previous(), page1.has_next()"
   ]
  },
  {
   "cell_type": "code",
   "execution_count": 26,
   "id": "2767dd5b",
   "metadata": {},
   "outputs": [
    {
     "data": {
      "text/plain": [
       "(True, True)"
      ]
     },
     "execution_count": 26,
     "metadata": {},
     "output_type": "execute_result"
    }
   ],
   "source": [
    "page10.has_previous(), page1.has_next()"
   ]
  },
  {
   "cell_type": "code",
   "execution_count": 27,
   "id": "255bdd53",
   "metadata": {},
   "outputs": [
    {
     "data": {
      "text/plain": [
       "(True, False)"
      ]
     },
     "execution_count": 27,
     "metadata": {},
     "output_type": "execute_result"
    }
   ],
   "source": [
    "page13.has_previous(), page13.has_next()"
   ]
  },
  {
   "cell_type": "code",
   "execution_count": null,
   "id": "246cf066",
   "metadata": {},
   "outputs": [],
   "source": []
  },
  {
   "cell_type": "markdown",
   "id": "97d01906",
   "metadata": {},
   "source": [
    "## 이전/다음페이지 번호 조회\n",
    "- **Page객체.number:** 현재 페이지 번호\n",
    "- **Page객체.previous_page_number():** 이전페이지 번호 조회\n",
    "- **page객체.next_page_number():** 다음페이지 번호 조회"
   ]
  },
  {
   "cell_type": "code",
   "execution_count": 28,
   "id": "1092de08",
   "metadata": {},
   "outputs": [
    {
     "data": {
      "text/plain": [
       "(1, 10, 13)"
      ]
     },
     "execution_count": 28,
     "metadata": {},
     "output_type": "execute_result"
    }
   ],
   "source": [
    "page1.number, page10.number, page13.number"
   ]
  },
  {
   "cell_type": "code",
   "execution_count": 30,
   "id": "eb4bc2e9",
   "metadata": {},
   "outputs": [
    {
     "data": {
      "text/plain": [
       "12"
      ]
     },
     "execution_count": 30,
     "metadata": {},
     "output_type": "execute_result"
    }
   ],
   "source": [
    "# 이전 페이지 번호\n",
    "page10.previous_page_number()\n",
    "page13.previous_page_number()"
   ]
  },
  {
   "cell_type": "code",
   "execution_count": 33,
   "id": "4dd17739",
   "metadata": {},
   "outputs": [],
   "source": [
    "if page1.has_previous():\n",
    "\n",
    "    print(page1.previous_page_number()) # 이전페이지가 없을 경우(1Page에서 조회) EmptyPage 예외발생"
   ]
  },
  {
   "cell_type": "code",
   "execution_count": null,
   "id": "9053ab91",
   "metadata": {},
   "outputs": [
    {
     "data": {
      "text/plain": [
       "11"
      ]
     },
     "execution_count": 12,
     "metadata": {},
     "output_type": "execute_result"
    }
   ],
   "source": [
    "# 다음 페이지 번호\n",
    "page1.next_page_number()\n",
    "page10.next_page_number()"
   ]
  },
  {
   "cell_type": "code",
   "execution_count": 16,
   "id": "1ed267f9",
   "metadata": {},
   "outputs": [],
   "source": [
    "if page13.has_next():\n",
    "    print(page13.next_page_number())"
   ]
  },
  {
   "cell_type": "code",
   "execution_count": null,
   "id": "72b46c99",
   "metadata": {},
   "outputs": [],
   "source": []
  },
  {
   "cell_type": "markdown",
   "id": "0d301a75",
   "metadata": {},
   "source": [
    "## 각 페이지별 데이터를 출력(조회)"
   ]
  },
  {
   "cell_type": "code",
   "execution_count": null,
   "id": "50ce2248",
   "metadata": {},
   "outputs": [],
   "source": [
    "# # 한페이지당 K개의 데이터를 출력\n",
    "# # --------N 페이지--------\n",
    "# # a, b, c, d, e, ...\n",
    "# paginate_by = 10 # K개\n",
    "# # Paginator객체 생성ㅇ\n",
    "# pn = Paginator(datatset, paginate_by)\n",
    "# pn.page_range\n",
    "# # 반복문으로 각 페이지의 데이터를 출력\n",
    "# for page_num in pn.page_range:\n",
    "#     page = pn.page(page_num)\n",
    "#     print(f\"----------------\")\n"
   ]
  },
  {
   "cell_type": "code",
   "execution_count": null,
   "id": "3751597d",
   "metadata": {},
   "outputs": [],
   "source": []
  },
  {
   "cell_type": "markdown",
   "id": "fd01b375",
   "metadata": {},
   "source": [
    "# 현재 페이지(요청페이지)가 속한 page 그룹의 (page_range)에서의 시작 index와 끝 index를 조회"
   ]
  },
  {
   "cell_type": "code",
   "execution_count": 18,
   "id": "4074e540",
   "metadata": {},
   "outputs": [
    {
     "name": "stdout",
     "output_type": "stream",
     "text": [
      "1, 2, 3, 4, 5, "
     ]
    }
   ],
   "source": [
    "for p in pn.page_range[0:5]:\n",
    "    print(p, end=\", \")"
   ]
  },
  {
   "cell_type": "code",
   "execution_count": 20,
   "id": "40aa39d2",
   "metadata": {},
   "outputs": [
    {
     "data": {
      "text/plain": [
       "range(1, 14)"
      ]
     },
     "execution_count": 20,
     "metadata": {},
     "output_type": "execute_result"
    }
   ],
   "source": [
    "pn = Paginator(dataset, 5)\n",
    "r = pn.page_range\n",
    "r"
   ]
  },
  {
   "cell_type": "code",
   "execution_count": null,
   "id": "d73d22c9",
   "metadata": {},
   "outputs": [
    {
     "name": "stdout",
     "output_type": "stream",
     "text": [
      "range(1, 4)\n",
      "range(4, 7)\n",
      "range(7, 10)\n"
     ]
    }
   ],
   "source": [
    "# 하나의 page group에 3페이지씩 묶는 경우.\n",
    "# index: 0 ~ 2, 3 ~ 5, 6 ~ 8, ...\n",
    "print(r[0:3]) # 현재 page가 1, 2, 3, 일 때, 그 페이지들이 속한 페이지의 시작/끝 index\n",
    "print(r[3:6]) # 현재 page가 4, 5, 6 일 때, 그 페이지들이 속한 페이지의 시작/끝 index\n",
    "print(r[6:9]) # 현재 page가 7, 8, 9 일 때, 그 페이지들이 속한 페이지의 시작/끝 index"
   ]
  },
  {
   "cell_type": "code",
   "execution_count": 27,
   "id": "56aef734",
   "metadata": {},
   "outputs": [
    {
     "name": "stdout",
     "output_type": "stream",
     "text": [
      "10 20\n"
     ]
    }
   ],
   "source": [
    "current_page = 20 # 현재 페이지 번호\n",
    "page_group_count = 10 # 페이지 그룹당 묶을 페이지 개수 (1 page group: 1, 2, 3, 4, 5 ->의 index를 조회)\n",
    "\n",
    "start_index = int((current_page - 1)/page_group_count) * page_group_count\n",
    "end_index = start_index + page_group_count\n",
    "print(start_index, end_index)"
   ]
  },
  {
   "cell_type": "code",
   "execution_count": 28,
   "id": "835debde",
   "metadata": {},
   "outputs": [
    {
     "name": "stdout",
     "output_type": "stream",
     "text": [
      "11, 12, 13, "
     ]
    }
   ],
   "source": [
    "for p in pn.page_range[start_index:end_index]:\n",
    "    print(p, end=\", \")"
   ]
  },
  {
   "cell_type": "code",
   "execution_count": null,
   "id": "1ced076c",
   "metadata": {},
   "outputs": [],
   "source": []
  },
  {
   "cell_type": "markdown",
   "id": "46d182a4",
   "metadata": {},
   "source": [
    "## Question, Choice Dummy 데이터 추가"
   ]
  },
  {
   "cell_type": "code",
   "execution_count": 29,
   "id": "0b08c85b",
   "metadata": {},
   "outputs": [],
   "source": [
    "from polls.models import Question, Choice"
   ]
  },
  {
   "cell_type": "code",
   "execution_count": 30,
   "id": "96156a6f",
   "metadata": {},
   "outputs": [],
   "source": [
    "for i in range(1, 403): # 402개 추가\n",
    "    q = Question(question_text=f\"질문 - {i}\")\n",
    "    q.save()"
   ]
  },
  {
   "cell_type": "code",
   "execution_count": 32,
   "id": "7865b734",
   "metadata": {},
   "outputs": [
    {
     "data": {
      "text/plain": [
       "402"
      ]
     },
     "execution_count": 32,
     "metadata": {},
     "output_type": "execute_result"
    }
   ],
   "source": [
    "# Question 개수 확인\n",
    "cnt = Question.objects.all().count()\n",
    "cnt"
   ]
  },
  {
   "cell_type": "code",
   "execution_count": 33,
   "id": "bc7721b5",
   "metadata": {},
   "outputs": [
    {
     "data": {
      "text/plain": [
       "8"
      ]
     },
     "execution_count": 33,
     "metadata": {},
     "output_type": "execute_result"
    }
   ],
   "source": [
    "start_id = Question.objects.all()[0].pk\n",
    "start_id"
   ]
  },
  {
   "cell_type": "code",
   "execution_count": 37,
   "id": "11963e27",
   "metadata": {},
   "outputs": [],
   "source": [
    "# 각 문제당 보기 4개씩 추가\n",
    "import random\n",
    "for q in Question.objects.all():\n",
    "    for i in range(4):  # 4: 보기개수\n",
    "        choice_text = f\"{i}번째 보기입니다.\"\n",
    "        votes = random.randint(0, 150)\n",
    "        c = Choice(choice_text=choice_text, votes=votes, question=q)\n",
    "        c.save()"
   ]
  },
  {
   "cell_type": "code",
   "execution_count": 38,
   "id": "44a8692e",
   "metadata": {},
   "outputs": [
    {
     "data": {
      "text/plain": [
       "1608"
      ]
     },
     "execution_count": 38,
     "metadata": {},
     "output_type": "execute_result"
    }
   ],
   "source": [
    "Choice.objects.all().count()"
   ]
  },
  {
   "cell_type": "code",
   "execution_count": null,
   "id": "50c56984",
   "metadata": {},
   "outputs": [],
   "source": []
  }
 ],
 "metadata": {
  "kernelspec": {
   "display_name": "lang_env",
   "language": "python",
   "name": "python3"
  },
  "language_info": {
   "codemirror_mode": {
    "name": "ipython",
    "version": 3
   },
   "file_extension": ".py",
   "mimetype": "text/x-python",
   "name": "python",
   "nbconvert_exporter": "python",
   "pygments_lexer": "ipython3",
   "version": "3.12.11"
  },
  "toc": {
   "base_numbering": 1,
   "nav_menu": {},
   "number_sections": true,
   "sideBar": true,
   "skip_h1_title": false,
   "title_cell": "Table of Contents",
   "title_sidebar": "Contents",
   "toc_cell": false,
   "toc_position": {},
   "toc_section_display": true,
   "toc_window_display": false
  },
  "varInspector": {
   "cols": {
    "lenName": 16,
    "lenType": 16,
    "lenVar": 40
   },
   "kernels_config": {
    "python": {
     "delete_cmd_postfix": "",
     "delete_cmd_prefix": "del ",
     "library": "var_list.py",
     "varRefreshCmd": "print(var_dic_list())"
    },
    "r": {
     "delete_cmd_postfix": ") ",
     "delete_cmd_prefix": "rm(",
     "library": "var_list.r",
     "varRefreshCmd": "cat(var_dic_list()) "
    }
   },
   "types_to_exclude": [
    "module",
    "function",
    "builtin_function_or_method",
    "instance",
    "_Feature"
   ],
   "window_display": false
  }
 },
 "nbformat": 4,
 "nbformat_minor": 5
}
